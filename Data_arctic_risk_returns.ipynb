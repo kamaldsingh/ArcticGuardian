{
 "cells": [
  {
   "cell_type": "code",
   "execution_count": 6,
   "id": "ba656d5b-d133-429a-af90-d15500efd3d2",
   "metadata": {},
   "outputs": [],
   "source": [
    "%run -i helpers.py\n",
    "%matplotlib inline"
   ]
  },
  {
   "cell_type": "code",
   "execution_count": 7,
   "id": "088acb83",
   "metadata": {},
   "outputs": [
    {
     "data": {
      "text/plain": [
       "True"
      ]
     },
     "execution_count": 7,
     "metadata": {},
     "output_type": "execute_result"
    }
   ],
   "source": [
    "load_dotenv('./.env')"
   ]
  },
  {
   "cell_type": "code",
   "execution_count": 4,
   "id": "08c94730",
   "metadata": {},
   "outputs": [],
   "source": [
    "cols_expect = ['Environmental','Social','Governance']\n",
    "esg_labels = ['Environmental','Social','Governance']"
   ]
  },
  {
   "cell_type": "code",
   "execution_count": 7,
   "id": "41af7273",
   "metadata": {},
   "outputs": [
    {
     "name": "stdout",
     "output_type": "stream",
     "text": [
      "we have 474 cons from S&P 500\n"
     ]
    }
   ],
   "source": [
    "transcrip = pd.read_pickle('./data/motley-fool-data.pkl')\n",
    "transcrip['dt'] = transcrip.date.apply(lambda x: parse_dt(x))\n",
    "transcrip.drop(columns = ['date','exchange'],inplace=True)\n",
    "\n",
    "snp = pd.read_csv('./data/constituents_csv.csv')\n",
    "snp.Symbol = snp.Symbol.astype(str)\n",
    "constituents_snp = [x for x in list(transcrip.ticker.unique()) if x in snp.Symbol.tolist()]\n",
    "print(f'we have {len(constituents_snp)} cons from S&P 500')\n",
    "transcrip_snp = transcrip[transcrip.ticker.isin(constituents_snp)]"
   ]
  },
  {
   "cell_type": "code",
   "execution_count": 8,
   "id": "5ed21f16",
   "metadata": {},
   "outputs": [],
   "source": [
    "dt_tic = transcrip_snp.groupby(['ticker'])['dt'].max().reset_index()\n",
    "transcrip_snp_latest = transcrip_snp.merge(dt_tic, on = ['ticker','dt'], how = 'inner')\n"
   ]
  },
  {
   "cell_type": "code",
   "execution_count": 9,
   "id": "7e7d3624",
   "metadata": {},
   "outputs": [
    {
     "name": "stdout",
     "output_type": "stream",
     "text": [
      "(478, 4)\n"
     ]
    },
    {
     "data": {
      "text/html": [
       "<div>\n",
       "<style scoped>\n",
       "    .dataframe tbody tr th:only-of-type {\n",
       "        vertical-align: middle;\n",
       "    }\n",
       "\n",
       "    .dataframe tbody tr th {\n",
       "        vertical-align: top;\n",
       "    }\n",
       "\n",
       "    .dataframe thead th {\n",
       "        text-align: right;\n",
       "    }\n",
       "</style>\n",
       "<table border=\"1\" class=\"dataframe\">\n",
       "  <thead>\n",
       "    <tr style=\"text-align: right;\">\n",
       "      <th></th>\n",
       "      <th>q</th>\n",
       "      <th>ticker</th>\n",
       "      <th>transcript</th>\n",
       "      <th>dt</th>\n",
       "    </tr>\n",
       "  </thead>\n",
       "  <tbody>\n",
       "    <tr>\n",
       "      <th>327</th>\n",
       "      <td>2022-Q3</td>\n",
       "      <td>A</td>\n",
       "      <td>Prepared Remarks:\\nOperator\\nGood afternoon. T...</td>\n",
       "      <td>2022-08-16 16:30:00</td>\n",
       "    </tr>\n",
       "    <tr>\n",
       "      <th>55</th>\n",
       "      <td>2022-Q2</td>\n",
       "      <td>AAL</td>\n",
       "      <td>Prepared Remarks:\\nOperator\\nGood morning, and...</td>\n",
       "      <td>2022-07-21 08:30:00</td>\n",
       "    </tr>\n",
       "    <tr>\n",
       "      <th>436</th>\n",
       "      <td>2021-Q3</td>\n",
       "      <td>AAP</td>\n",
       "      <td>Prepared Remarks:\\nOperator\\nWelcome to the Ad...</td>\n",
       "      <td>2021-11-16 08:00:00</td>\n",
       "    </tr>\n",
       "    <tr>\n",
       "      <th>259</th>\n",
       "      <td>2023-Q1</td>\n",
       "      <td>AAPL</td>\n",
       "      <td>Prepared Remarks:\\nOperator\\nGood day, everyon...</td>\n",
       "      <td>2023-02-02 17:00:00</td>\n",
       "    </tr>\n",
       "    <tr>\n",
       "      <th>199</th>\n",
       "      <td>2022-Q3</td>\n",
       "      <td>ABBV</td>\n",
       "      <td>Prepared Remarks:\\nOperator\\nGood morning, and...</td>\n",
       "      <td>2022-10-28 09:00:00</td>\n",
       "    </tr>\n",
       "  </tbody>\n",
       "</table>\n",
       "</div>"
      ],
      "text/plain": [
       "           q ticker                                         transcript  \\\n",
       "327  2022-Q3      A  Prepared Remarks:\\nOperator\\nGood afternoon. T...   \n",
       "55   2022-Q2    AAL  Prepared Remarks:\\nOperator\\nGood morning, and...   \n",
       "436  2021-Q3    AAP  Prepared Remarks:\\nOperator\\nWelcome to the Ad...   \n",
       "259  2023-Q1   AAPL  Prepared Remarks:\\nOperator\\nGood day, everyon...   \n",
       "199  2022-Q3   ABBV  Prepared Remarks:\\nOperator\\nGood morning, and...   \n",
       "\n",
       "                     dt  \n",
       "327 2022-08-16 16:30:00  \n",
       "55  2022-07-21 08:30:00  \n",
       "436 2021-11-16 08:00:00  \n",
       "259 2023-02-02 17:00:00  \n",
       "199 2022-10-28 09:00:00  "
      ]
     },
     "execution_count": 9,
     "metadata": {},
     "output_type": "execute_result"
    }
   ],
   "source": [
    "transcrip_snp_latest.sort_values(['ticker','dt'],inplace=True)\n",
    "transcrip_snp_latest.drop_duplicates(inplace=True)\n",
    "print(transcrip_snp_latest.shape)\n",
    "transcrip_snp_latest.head()"
   ]
  },
  {
   "cell_type": "code",
   "execution_count": 37,
   "id": "d902ae35",
   "metadata": {},
   "outputs": [],
   "source": [
    "def get_climate_risks(row):\n",
    "    event_responses = get_responses_arctic_ai_risk(row.transcript)\n",
    "    all_risks, len_risks = clean_response(event_responses)\n",
    "    row['climate_risks'] = all_risks\n",
    "    row['climate_risk_count'] = len_risks\n",
    "    return(row)"
   ]
  },
  {
   "cell_type": "code",
   "execution_count": 42,
   "id": "232a6e0e",
   "metadata": {},
   "outputs": [],
   "source": [
    "sampled_tics = transcrip_snp_latest.sample(n=100,random_state=42)\n",
    "transcrip_snp_latest_100 = transcrip_snp_latest[transcrip_snp_latest.ticker.isin(sampled_tics.ticker.unique())]"
   ]
  },
  {
   "cell_type": "code",
   "execution_count": 43,
   "id": "cdfb64c8",
   "metadata": {},
   "outputs": [],
   "source": [
    "climate_risks_df = transcrip_snp_latest_100.apply(get_climate_risks, axis = 1)\n",
    "climate_risks_df.drop(columns='transcript',inplace=True)\n",
    "climate_risks_df.to_csv('./data/arctic_climate_risks_df_100.csv',index=False)"
   ]
  },
  {
   "cell_type": "code",
   "execution_count": 7,
   "id": "d15627db",
   "metadata": {},
   "outputs": [],
   "source": [
    "# climate_risks_df = pd.read_csv('./data/arctic_climate_risks_df_100.csv')"
   ]
  },
  {
   "cell_type": "code",
   "execution_count": 6,
   "id": "a51be817",
   "metadata": {},
   "outputs": [
    {
     "name": "stderr",
     "output_type": "stream",
     "text": [
      "ERROR CDAY: No data found, symbol may be delisted\n",
      "ERROR CERN: No timezone found, symbol may be delisted\n",
      "ERROR CTXS: No timezone found, symbol may be delisted\n",
      "ERROR NLSN: No timezone found, symbol may be delisted\n",
      "ERROR PEAK: No data found, symbol may be delisted\n",
      "ERROR SIVB: Period '1mo' is invalid, must be one of ['1d', '5d']\n",
      "ERROR XLNX: No timezone found, symbol may be delisted\n"
     ]
    }
   ],
   "source": [
    "def calc_last_6m_returns_risk(row, mnths=6):\n",
    "    tic = row.ticker\n",
    "    current_date = datetime.date.today()\n",
    "    six_months_ago = current_date - datetime.timedelta(days=mnths*30)\n",
    "\n",
    "    stock_prices = pd.DataFrame(yf.Ticker(tic).history(start=six_months_ago.strftime(\"%Y-%m-%d\"),  end=current_date.strftime(\"%Y-%m-%d\"))).reset_index()\n",
    "    stock_prices['ticker'] = tic\n",
    "    stock_prices.Date = pd.to_datetime(stock_prices.Date,utc=True)  \n",
    "    stock_prices = stock_prices.groupby(['ticker']).apply(calc_returns)\n",
    "    if stock_prices.empty:\n",
    "        return(row)    \n",
    "    else:\n",
    "        row['returns_6m'] = stock_prices.daily_return.sum() \n",
    "        row['vol_6m'] = stock_prices.daily_return.sum() \n",
    "        return()\n",
    "\n",
    "climate_risks_df['returns_6m'] = climate_risks_df.ticker.apply(calc_last_3m_returns)"
   ]
  },
  {
   "cell_type": "code",
   "execution_count": 5,
   "id": "b0bdba90",
   "metadata": {},
   "outputs": [
    {
     "data": {
      "text/html": [
       "<div>\n",
       "<style scoped>\n",
       "    .dataframe tbody tr th:only-of-type {\n",
       "        vertical-align: middle;\n",
       "    }\n",
       "\n",
       "    .dataframe tbody tr th {\n",
       "        vertical-align: top;\n",
       "    }\n",
       "\n",
       "    .dataframe thead th {\n",
       "        text-align: right;\n",
       "    }\n",
       "</style>\n",
       "<table border=\"1\" class=\"dataframe\">\n",
       "  <thead>\n",
       "    <tr style=\"text-align: right;\">\n",
       "      <th></th>\n",
       "      <th>climate_risk_count</th>\n",
       "      <th>returns_6m</th>\n",
       "    </tr>\n",
       "  </thead>\n",
       "  <tbody>\n",
       "    <tr>\n",
       "      <th>climate_risk_count</th>\n",
       "      <td>1.000000</td>\n",
       "      <td>-0.117329</td>\n",
       "    </tr>\n",
       "    <tr>\n",
       "      <th>returns_6m</th>\n",
       "      <td>-0.117329</td>\n",
       "      <td>1.000000</td>\n",
       "    </tr>\n",
       "  </tbody>\n",
       "</table>\n",
       "</div>"
      ],
      "text/plain": [
       "                    climate_risk_count  returns_6m\n",
       "climate_risk_count            1.000000   -0.117329\n",
       "returns_6m                   -0.117329    1.000000"
      ]
     },
     "execution_count": 5,
     "metadata": {},
     "output_type": "execute_result"
    }
   ],
   "source": [
    "# climate_risks_df.to_csv('./data/complete_data_arctic_risk_returns_100.csv',index=False)\n",
    "climate_risks_df = pd.read_csv('./data/complete_data_arctic_risk_returns_100.csv')\n",
    "climate_risks_df[['climate_risk_count','returns_6m']].corr()"
   ]
  },
  {
   "cell_type": "code",
   "execution_count": 15,
   "id": "9742634b",
   "metadata": {},
   "outputs": [
    {
     "ename": "",
     "evalue": "",
     "output_type": "error",
     "traceback": [
      "\u001b[1;31mThe Kernel crashed while executing code in the current cell or a previous cell. \n",
      "\u001b[1;31mPlease review the code in the cell(s) to identify a possible cause of the failure. \n",
      "\u001b[1;31mClick <a href='https://aka.ms/vscodeJupyterKernelCrash'>here</a> for more info. \n",
      "\u001b[1;31mView Jupyter <a href='command:jupyter.viewOutput'>log</a> for further details."
     ]
    }
   ],
   "source": [
    "climate_risks_df[climate_risks_df.climate_risks.notna()].to_csv('./data/climate_risks_statements_examples.csv',index=False)"
   ]
  },
  {
   "cell_type": "code",
   "execution_count": 8,
   "id": "080d3dbd",
   "metadata": {},
   "outputs": [],
   "source": [
    "sp_weights = pd.read_html(requests.get('https://www.slickcharts.com/sp500',\n",
    "                      headers={'User-agent': 'Mozilla/5.0'}).text)[0]\n",
    "\n",
    "sp_weights.rename(columns={'Portfolio%':'sp500_weight','Symbol':'ticker'}, inplace=True)\n",
    "sp_weights.sp500_weight = sp_weights.sp500_weight.apply(lambda x: str(x).replace('%', '')).astype(float)\n",
    "sp_weights.to_csv('./data/sp500_weights.csv',index=False)\n"
   ]
  },
  {
   "cell_type": "code",
   "execution_count": null,
   "id": "faf41ed4",
   "metadata": {},
   "outputs": [],
   "source": []
  }
 ],
 "metadata": {
  "kernelspec": {
   "display_name": "Python 3 (ipykernel)",
   "language": "python",
   "name": "python3"
  },
  "language_info": {
   "codemirror_mode": {
    "name": "ipython",
    "version": 3
   },
   "file_extension": ".py",
   "mimetype": "text/x-python",
   "name": "python",
   "nbconvert_exporter": "python",
   "pygments_lexer": "ipython3",
   "version": "3.9.16"
  }
 },
 "nbformat": 4,
 "nbformat_minor": 5
}
